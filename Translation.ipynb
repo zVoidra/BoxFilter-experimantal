{
 "cells": [
  {
   "cell_type": "code",
   "execution_count": 2,
   "metadata": {},
   "outputs": [],
   "source": [
    "import numpy as np\n",
    "import cv2 as cv2\n",
    "# Optional\n",
    "from matplotlib import pyplot as plt"
   ]
  },
  {
   "cell_type": "code",
   "execution_count": 3,
   "metadata": {},
   "outputs": [],
   "source": [
    "image_Einstein = cv2.imread('./sample_images/einstein.jpg')\n",
    "image_Cameraman = cv2.imread('./sample_images/Cameraman.bmp')\n",
    "image_Lena = cv2.imread('./sample_images/Lena.bmp')\n",
    "image_Salt_Pepper = cv2.imread('./sample_images/salt_pepper.jpg')\n",
    "image_Baboon = cv2.imread('./sample_images/Baboon.bmp')"
   ]
  },
  {
   "cell_type": "code",
   "execution_count": 4,
   "metadata": {},
   "outputs": [],
   "source": [
    "\n",
    "def TranslateImage(inImage, Tfilter):\n",
    "    imageGray = cv2.cvtColor(inImage, cv2.COLOR_BGR2GRAY)\n",
    "    copyImageGray = np.array(imageGray)\n",
    "    S = imageGray.shape\n",
    "\n",
    "    for nrow in range(S[0]):\n",
    "        for ncolumn in range(S[1]):\n",
    "            CRVector = np.array([[nrow], [ncolumn], [1]])\n",
    "            TVector = np.matmul(Tfilter, CRVector)\n",
    "\n",
    "            if(TVector[0] < S[0] and TVector[1] < S[1]):\n",
    "                imageGray[TVector[0], TVector[1]] = copyImageGray[nrow, ncolumn]\n",
    "                \n",
    "    return imageGray\n"
   ]
  },
  {
   "cell_type": "code",
   "execution_count": null,
   "metadata": {},
   "outputs": [],
   "source": [
    "def GenerateTranslateVector(x, y):\n",
    "    TranslateVector = np.array([\n",
    "        [1,0,y],\n",
    "        [0,1,x],\n",
    "        [0,0,1]\n",
    "    ])\n",
    "    return TranslateVector"
   ]
  },
  {
   "cell_type": "code",
   "execution_count": null,
   "metadata": {},
   "outputs": [],
   "source": [
    "def Plot_Images(Choosen_Image, Generated_TranslateVector):\n",
    "    tImage = TranslateImage(Choosen_Image, Generated_TranslateVector)\n",
    "    plt.gray()\n",
    "    fig = plt.figure(figsize=(8, 8))\n",
    "    plt.imshow(tImage), plt.xticks([]), plt.yticks([]), plt.show()\n",
    "\n",
    "\n",
    "print(\"2 Piksel Yukari\")\n",
    "YukariMatris_Yn2 = GenerateTranslateVector(0, -2)\n",
    "Plot_Images(image_Einstein, YukariMatris_Yn2)\n",
    "\n",
    "print(\"3 Piksel Sağa\")\n",
    "SagaMatris_X3 = GenerateTranslateVector(3, 0)\n",
    "Plot_Images(image_Einstein, SagaMatris_X3)\n",
    "\n",
    "TranslateVectorExample1 = np.array([\n",
    "    [1,0,\"Y\"],\n",
    "    [0,1,\"X\"],\n",
    "    [0,0,1]\n",
    "])\n",
    "\n",
    "### ----- TEST ----- ###\n",
    "Choosen_Image = image_Einstein\n",
    "#X ve Y değerleri verilmesi.\n",
    "#Y Negatif değeri yukarı, Y Pozitif değeri aşağı kaydırıyor.\n",
    "#X Negatif değeri sola, X Pozitif değeri sağa kaydırıyor.\n",
    "Kaydirma_X = 0\n",
    "Kaydirma_Y = 0\n",
    "Generated_TranslateVector = GenerateTranslateVector(Kaydirma_X, Kaydirma_Y)\n",
    "## Görünütünün çıktısını alabilmek için alttaki fonksiyonu yorumdan çıkarınız.\n",
    "# Plot_Images(Choosen_Image, Generated_TranslateVector)\n",
    "\n",
    "\n"
   ]
  }
 ],
 "metadata": {
  "interpreter": {
   "hash": "018a6f62ed8d3b1e6b8a64a8bd085c9fa383dab29e01beadd7881b55a9e5595f"
  },
  "kernelspec": {
   "display_name": "Python 3.10.0 64-bit",
   "name": "python3"
  },
  "language_info": {
   "codemirror_mode": {
    "name": "ipython",
    "version": 3
   },
   "file_extension": ".py",
   "mimetype": "text/x-python",
   "name": "python",
   "nbconvert_exporter": "python",
   "pygments_lexer": "ipython3",
   "version": "3.10.0"
  },
  "orig_nbformat": 4
 },
 "nbformat": 4,
 "nbformat_minor": 2
}
